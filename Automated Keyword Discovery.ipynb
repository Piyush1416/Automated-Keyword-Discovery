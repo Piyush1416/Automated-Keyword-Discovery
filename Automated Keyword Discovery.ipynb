{
 "cells": [
  {
   "cell_type": "markdown",
   "metadata": {},
   "source": [
    "Keywords hold key standard in stating key representation of articles content.Most importantly keywords categorize an article into a relevant subject or discipline."
   ]
  },
  {
   "cell_type": "markdown",
   "metadata": {},
   "source": [
    "Traditionally, articles were given a tag, category based on readers judgment, which was very difficult, given huge corpus of text that is been generated now, which gets us to thinking what can be other way of getting this work done smartly and quickly and at same time, accurately tagging the relevant topics with meaningful entities."
   ]
  },
  {
   "cell_type": "markdown",
   "metadata": {},
   "source": [
    "# Dataset Used "
   ]
  },
  {
   "cell_type": "markdown",
   "metadata": {},
   "source": [
    "we will be using Neural Information Processing Systems (NIPS) is one of the top machine learning conferences in the world. This dataset includes the title and abstracts for all NIPS papers to date (ranging from the first 1987 conference to 2016 conference).\n",
    "The dataset is available on kaggle here :- https://www.kaggle.com/benhamner/nips-papers/home"
   ]
  },
  {
   "cell_type": "markdown",
   "metadata": {},
   "source": [
    "Work Involved in this experiment is as follows:-\n",
    "    \n",
    "    1] Data Loading\n",
    "    2] Data Pre-Processing (cleaning data and noise removal)\n",
    "    3] Data Exploration (Understanding the data)\n",
    "    4] Convert data into Word-Vector Representation\n",
    "    5] Based on word Frequencies Pick top words relevant to each topic"
   ]
  },
  {
   "cell_type": "markdown",
   "metadata": {},
   "source": [
    "##### Step 1: Data Loading"
   ]
  },
  {
   "cell_type": "code",
   "execution_count": 2,
   "metadata": {},
   "outputs": [
    {
     "data": {
      "text/html": [
       "<div>\n",
       "<style scoped>\n",
       "    .dataframe tbody tr th:only-of-type {\n",
       "        vertical-align: middle;\n",
       "    }\n",
       "\n",
       "    .dataframe tbody tr th {\n",
       "        vertical-align: top;\n",
       "    }\n",
       "\n",
       "    .dataframe thead th {\n",
       "        text-align: right;\n",
       "    }\n",
       "</style>\n",
       "<table border=\"1\" class=\"dataframe\">\n",
       "  <thead>\n",
       "    <tr style=\"text-align: right;\">\n",
       "      <th></th>\n",
       "      <th>id</th>\n",
       "      <th>year</th>\n",
       "      <th>title</th>\n",
       "      <th>event_type</th>\n",
       "      <th>pdf_name</th>\n",
       "      <th>abstract</th>\n",
       "      <th>paper_text</th>\n",
       "    </tr>\n",
       "  </thead>\n",
       "  <tbody>\n",
       "    <tr>\n",
       "      <th>0</th>\n",
       "      <td>1</td>\n",
       "      <td>1987</td>\n",
       "      <td>Self-Organization of Associative Database and ...</td>\n",
       "      <td>NaN</td>\n",
       "      <td>1-self-organization-of-associative-database-an...</td>\n",
       "      <td>Abstract Missing</td>\n",
       "      <td>767\\n\\nSELF-ORGANIZATION OF ASSOCIATIVE DATABA...</td>\n",
       "    </tr>\n",
       "    <tr>\n",
       "      <th>1</th>\n",
       "      <td>10</td>\n",
       "      <td>1987</td>\n",
       "      <td>A Mean Field Theory of Layer IV of Visual Cort...</td>\n",
       "      <td>NaN</td>\n",
       "      <td>10-a-mean-field-theory-of-layer-iv-of-visual-c...</td>\n",
       "      <td>Abstract Missing</td>\n",
       "      <td>683\\n\\nA MEAN FIELD THEORY OF LAYER IV OF VISU...</td>\n",
       "    </tr>\n",
       "    <tr>\n",
       "      <th>2</th>\n",
       "      <td>100</td>\n",
       "      <td>1988</td>\n",
       "      <td>Storing Covariance by the Associative Long-Ter...</td>\n",
       "      <td>NaN</td>\n",
       "      <td>100-storing-covariance-by-the-associative-long...</td>\n",
       "      <td>Abstract Missing</td>\n",
       "      <td>394\\n\\nSTORING COVARIANCE BY THE ASSOCIATIVE\\n...</td>\n",
       "    </tr>\n",
       "    <tr>\n",
       "      <th>3</th>\n",
       "      <td>1000</td>\n",
       "      <td>1994</td>\n",
       "      <td>Bayesian Query Construction for Neural Network...</td>\n",
       "      <td>NaN</td>\n",
       "      <td>1000-bayesian-query-construction-for-neural-ne...</td>\n",
       "      <td>Abstract Missing</td>\n",
       "      <td>Bayesian Query Construction for Neural\\nNetwor...</td>\n",
       "    </tr>\n",
       "    <tr>\n",
       "      <th>4</th>\n",
       "      <td>1001</td>\n",
       "      <td>1994</td>\n",
       "      <td>Neural Network Ensembles, Cross Validation, an...</td>\n",
       "      <td>NaN</td>\n",
       "      <td>1001-neural-network-ensembles-cross-validation...</td>\n",
       "      <td>Abstract Missing</td>\n",
       "      <td>Neural Network Ensembles, Cross\\nValidation, a...</td>\n",
       "    </tr>\n",
       "  </tbody>\n",
       "</table>\n",
       "</div>"
      ],
      "text/plain": [
       "     id  year                                              title event_type  \\\n",
       "0     1  1987  Self-Organization of Associative Database and ...        NaN   \n",
       "1    10  1987  A Mean Field Theory of Layer IV of Visual Cort...        NaN   \n",
       "2   100  1988  Storing Covariance by the Associative Long-Ter...        NaN   \n",
       "3  1000  1994  Bayesian Query Construction for Neural Network...        NaN   \n",
       "4  1001  1994  Neural Network Ensembles, Cross Validation, an...        NaN   \n",
       "\n",
       "                                            pdf_name          abstract  \\\n",
       "0  1-self-organization-of-associative-database-an...  Abstract Missing   \n",
       "1  10-a-mean-field-theory-of-layer-iv-of-visual-c...  Abstract Missing   \n",
       "2  100-storing-covariance-by-the-associative-long...  Abstract Missing   \n",
       "3  1000-bayesian-query-construction-for-neural-ne...  Abstract Missing   \n",
       "4  1001-neural-network-ensembles-cross-validation...  Abstract Missing   \n",
       "\n",
       "                                          paper_text  \n",
       "0  767\\n\\nSELF-ORGANIZATION OF ASSOCIATIVE DATABA...  \n",
       "1  683\\n\\nA MEAN FIELD THEORY OF LAYER IV OF VISU...  \n",
       "2  394\\n\\nSTORING COVARIANCE BY THE ASSOCIATIVE\\n...  \n",
       "3  Bayesian Query Construction for Neural\\nNetwor...  \n",
       "4  Neural Network Ensembles, Cross\\nValidation, a...  "
      ]
     },
     "execution_count": 2,
     "metadata": {},
     "output_type": "execute_result"
    }
   ],
   "source": [
    "import pandas as pd\n",
    "\n",
    "\n",
    "import pandas\n",
    "# load the dataset\n",
    "dataset = pd.read_csv('papers.csv', delimiter = ',')\n",
    "dataset.head()\n"
   ]
  },
  {
   "cell_type": "code",
   "execution_count": 3,
   "metadata": {},
   "outputs": [
    {
     "data": {
      "text/plain": [
       "(7241, 7)"
      ]
     },
     "execution_count": 3,
     "metadata": {},
     "output_type": "execute_result"
    }
   ],
   "source": [
    "dataset.shape"
   ]
  },
  {
   "cell_type": "markdown",
   "metadata": {},
   "source": [
    "For experimentation, using entire paper text can be quite computationally heavy, so I decide to start with just abstract, so I select only those rows of dataframe where abstract is present and create a new column (data) by combining, Abstract + title."
   ]
  },
  {
   "cell_type": "code",
   "execution_count": 13,
   "metadata": {},
   "outputs": [
    {
     "name": "stderr",
     "output_type": "stream",
     "text": [
      "C:\\Users\\sugat\\Anaconda3\\lib\\site-packages\\ipykernel_launcher.py:2: SettingWithCopyWarning: \n",
      "A value is trying to be set on a copy of a slice from a DataFrame.\n",
      "Try using .loc[row_indexer,col_indexer] = value instead\n",
      "\n",
      "See the caveats in the documentation: http://pandas.pydata.org/pandas-docs/stable/indexing.html#indexing-view-versus-copy\n",
      "  \n"
     ]
    },
    {
     "data": {
      "text/html": [
       "<div>\n",
       "<style scoped>\n",
       "    .dataframe tbody tr th:only-of-type {\n",
       "        vertical-align: middle;\n",
       "    }\n",
       "\n",
       "    .dataframe tbody tr th {\n",
       "        vertical-align: top;\n",
       "    }\n",
       "\n",
       "    .dataframe thead th {\n",
       "        text-align: right;\n",
       "    }\n",
       "</style>\n",
       "<table border=\"1\" class=\"dataframe\">\n",
       "  <thead>\n",
       "    <tr style=\"text-align: right;\">\n",
       "      <th></th>\n",
       "      <th>id</th>\n",
       "      <th>year</th>\n",
       "      <th>title</th>\n",
       "      <th>event_type</th>\n",
       "      <th>pdf_name</th>\n",
       "      <th>abstract</th>\n",
       "      <th>paper_text</th>\n",
       "      <th>data</th>\n",
       "    </tr>\n",
       "  </thead>\n",
       "  <tbody>\n",
       "    <tr>\n",
       "      <th>941</th>\n",
       "      <td>1861</td>\n",
       "      <td>2000</td>\n",
       "      <td>Algorithms for Non-negative Matrix Factorization</td>\n",
       "      <td>NaN</td>\n",
       "      <td>1861-algorithms-for-non-negative-matrix-factor...</td>\n",
       "      <td>Non-negative matrix factorization (NMF) has pr...</td>\n",
       "      <td>Algorithms for Non-negative Matrix\\nFactorizat...</td>\n",
       "      <td>Algorithms for Non-negative Matrix Factorizati...</td>\n",
       "    </tr>\n",
       "    <tr>\n",
       "      <th>1067</th>\n",
       "      <td>1975</td>\n",
       "      <td>2001</td>\n",
       "      <td>Characterizing Neural Gain Control using Spike...</td>\n",
       "      <td>NaN</td>\n",
       "      <td>1975-characterizing-neural-gain-control-using-...</td>\n",
       "      <td>Spike-triggered averaging techniques are effec...</td>\n",
       "      <td>Characterizing neural gain control using\\nspik...</td>\n",
       "      <td>Characterizing Neural Gain Control using Spike...</td>\n",
       "    </tr>\n",
       "    <tr>\n",
       "      <th>2384</th>\n",
       "      <td>3163</td>\n",
       "      <td>2007</td>\n",
       "      <td>Competition Adds Complexity</td>\n",
       "      <td>NaN</td>\n",
       "      <td>3163-competition-adds-complexity.pdf</td>\n",
       "      <td>It is known that determinining whether a DEC-P...</td>\n",
       "      <td>Competition adds complexity\\n\\nJudy Goldsmith\\...</td>\n",
       "      <td>Competition Adds Complexity.It is known that d...</td>\n",
       "    </tr>\n",
       "    <tr>\n",
       "      <th>2385</th>\n",
       "      <td>3164</td>\n",
       "      <td>2007</td>\n",
       "      <td>Efficient Principled Learning of Thin Junction...</td>\n",
       "      <td>NaN</td>\n",
       "      <td>3164-efficient-principled-learning-of-thin-jun...</td>\n",
       "      <td>We present the first truly polynomial algorith...</td>\n",
       "      <td>Efficient Principled Learning of Thin Junction...</td>\n",
       "      <td>Efficient Principled Learning of Thin Junction...</td>\n",
       "    </tr>\n",
       "    <tr>\n",
       "      <th>2388</th>\n",
       "      <td>3167</td>\n",
       "      <td>2007</td>\n",
       "      <td>Regularized Boost for Semi-Supervised Learning</td>\n",
       "      <td>NaN</td>\n",
       "      <td>3167-regularized-boost-for-semi-supervised-lea...</td>\n",
       "      <td>Semi-supervised inductive learning concerns ho...</td>\n",
       "      <td>Regularized Boost for Semi-Supervised Learning...</td>\n",
       "      <td>Regularized Boost for Semi-Supervised Learning...</td>\n",
       "    </tr>\n",
       "  </tbody>\n",
       "</table>\n",
       "</div>"
      ],
      "text/plain": [
       "        id  year                                              title  \\\n",
       "941   1861  2000   Algorithms for Non-negative Matrix Factorization   \n",
       "1067  1975  2001  Characterizing Neural Gain Control using Spike...   \n",
       "2384  3163  2007                        Competition Adds Complexity   \n",
       "2385  3164  2007  Efficient Principled Learning of Thin Junction...   \n",
       "2388  3167  2007     Regularized Boost for Semi-Supervised Learning   \n",
       "\n",
       "     event_type                                           pdf_name  \\\n",
       "941         NaN  1861-algorithms-for-non-negative-matrix-factor...   \n",
       "1067        NaN  1975-characterizing-neural-gain-control-using-...   \n",
       "2384        NaN               3163-competition-adds-complexity.pdf   \n",
       "2385        NaN  3164-efficient-principled-learning-of-thin-jun...   \n",
       "2388        NaN  3167-regularized-boost-for-semi-supervised-lea...   \n",
       "\n",
       "                                               abstract  \\\n",
       "941   Non-negative matrix factorization (NMF) has pr...   \n",
       "1067  Spike-triggered averaging techniques are effec...   \n",
       "2384  It is known that determinining whether a DEC-P...   \n",
       "2385  We present the first truly polynomial algorith...   \n",
       "2388  Semi-supervised inductive learning concerns ho...   \n",
       "\n",
       "                                             paper_text  \\\n",
       "941   Algorithms for Non-negative Matrix\\nFactorizat...   \n",
       "1067  Characterizing neural gain control using\\nspik...   \n",
       "2384  Competition adds complexity\\n\\nJudy Goldsmith\\...   \n",
       "2385  Efficient Principled Learning of Thin Junction...   \n",
       "2388  Regularized Boost for Semi-Supervised Learning...   \n",
       "\n",
       "                                                   data  \n",
       "941   Algorithms for Non-negative Matrix Factorizati...  \n",
       "1067  Characterizing Neural Gain Control using Spike...  \n",
       "2384  Competition Adds Complexity.It is known that d...  \n",
       "2385  Efficient Principled Learning of Thin Junction...  \n",
       "2388  Regularized Boost for Semi-Supervised Learning...  "
      ]
     },
     "execution_count": 13,
     "metadata": {},
     "output_type": "execute_result"
    }
   ],
   "source": [
    "df_abstract = dataset.loc[dataset['abstract']!='Abstract Missing']\n",
    "df_abstract['data'] = df_abstract['title'] +'.' + df_abstract['abstract']\n",
    "df_abstract.head()"
   ]
  },
  {
   "cell_type": "code",
   "execution_count": 14,
   "metadata": {},
   "outputs": [
    {
     "data": {
      "text/plain": [
       "(3924, 8)"
      ]
     },
     "execution_count": 14,
     "metadata": {},
     "output_type": "execute_result"
    }
   ],
   "source": [
    "df_abstract.shape"
   ]
  },
  {
   "cell_type": "markdown",
   "metadata": {},
   "source": [
    "With 3924 samples, I think we got sufficiently large amount of data for computation."
   ]
  },
  {
   "cell_type": "markdown",
   "metadata": {},
   "source": [
    "##### Step 2: Data Exploration"
   ]
  },
  {
   "cell_type": "markdown",
   "metadata": {},
   "source": [
    "Let us count total number of words in each SAMPLE"
   ]
  },
  {
   "cell_type": "code",
   "execution_count": 15,
   "metadata": {},
   "outputs": [
    {
     "name": "stderr",
     "output_type": "stream",
     "text": [
      "C:\\Users\\sugat\\Anaconda3\\lib\\site-packages\\ipykernel_launcher.py:2: SettingWithCopyWarning: \n",
      "A value is trying to be set on a copy of a slice from a DataFrame.\n",
      "Try using .loc[row_indexer,col_indexer] = value instead\n",
      "\n",
      "See the caveats in the documentation: http://pandas.pydata.org/pandas-docs/stable/indexing.html#indexing-view-versus-copy\n",
      "  \n"
     ]
    },
    {
     "data": {
      "text/html": [
       "<div>\n",
       "<style scoped>\n",
       "    .dataframe tbody tr th:only-of-type {\n",
       "        vertical-align: middle;\n",
       "    }\n",
       "\n",
       "    .dataframe tbody tr th {\n",
       "        vertical-align: top;\n",
       "    }\n",
       "\n",
       "    .dataframe thead th {\n",
       "        text-align: right;\n",
       "    }\n",
       "</style>\n",
       "<table border=\"1\" class=\"dataframe\">\n",
       "  <thead>\n",
       "    <tr style=\"text-align: right;\">\n",
       "      <th></th>\n",
       "      <th>data</th>\n",
       "      <th>word_count</th>\n",
       "    </tr>\n",
       "  </thead>\n",
       "  <tbody>\n",
       "    <tr>\n",
       "      <th>941</th>\n",
       "      <td>Algorithms for Non-negative Matrix Factorizati...</td>\n",
       "      <td>111</td>\n",
       "    </tr>\n",
       "    <tr>\n",
       "      <th>1067</th>\n",
       "      <td>Characterizing Neural Gain Control using Spike...</td>\n",
       "      <td>87</td>\n",
       "    </tr>\n",
       "    <tr>\n",
       "      <th>2384</th>\n",
       "      <td>Competition Adds Complexity.It is known that d...</td>\n",
       "      <td>69</td>\n",
       "    </tr>\n",
       "    <tr>\n",
       "      <th>2385</th>\n",
       "      <td>Efficient Principled Learning of Thin Junction...</td>\n",
       "      <td>149</td>\n",
       "    </tr>\n",
       "    <tr>\n",
       "      <th>2388</th>\n",
       "      <td>Regularized Boost for Semi-Supervised Learning...</td>\n",
       "      <td>123</td>\n",
       "    </tr>\n",
       "  </tbody>\n",
       "</table>\n",
       "</div>"
      ],
      "text/plain": [
       "                                                   data  word_count\n",
       "941   Algorithms for Non-negative Matrix Factorizati...         111\n",
       "1067  Characterizing Neural Gain Control using Spike...          87\n",
       "2384  Competition Adds Complexity.It is known that d...          69\n",
       "2385  Efficient Principled Learning of Thin Junction...         149\n",
       "2388  Regularized Boost for Semi-Supervised Learning...         123"
      ]
     },
     "execution_count": 15,
     "metadata": {},
     "output_type": "execute_result"
    }
   ],
   "source": [
    "#Fetch wordcount for each abstract\n",
    "df_abstract['word_count'] = df_abstract['data'].apply(lambda x: len(str(x).split(\" \")))\n",
    "df_abstract[['data','word_count']].head()"
   ]
  },
  {
   "cell_type": "code",
   "execution_count": 18,
   "metadata": {},
   "outputs": [
    {
     "data": {
      "text/plain": [
       "count    3924.000000\n",
       "mean      154.888124\n",
       "std        46.001025\n",
       "min        26.000000\n",
       "25%       121.000000\n",
       "50%       150.000000\n",
       "75%       184.000000\n",
       "max       324.000000\n",
       "Name: word_count, dtype: float64"
      ]
     },
     "execution_count": 18,
     "metadata": {},
     "output_type": "execute_result"
    }
   ],
   "source": [
    "df_abstract['word_count'].describe()"
   ]
  },
  {
   "cell_type": "markdown",
   "metadata": {},
   "source": [
    "As we see above, the average word count in all samples is 154 words/doc, with minimum word count of 26 and max of 324."
   ]
  },
  {
   "cell_type": "markdown",
   "metadata": {},
   "source": [
    "It is time to clean up the data now, our preprocessing step will involve, two major steps:\n",
    "\n",
    "            1] Noise Removal\n",
    "            2] Normalization\n",
    "            \n",
    "For Noise Removal, we will be removing stop words which holds no meaning in deciding the meaning of the document.\n",
    "\n",
    "In Normalization, we will be either using Stemming or Lemmatization to convert all words in root format, to maintain a consistency."
   ]
  },
  {
   "cell_type": "code",
   "execution_count": 22,
   "metadata": {},
   "outputs": [],
   "source": [
    "# Libraries for text preprocessing\n",
    "import re\n",
    "import nltk\n",
    "from nltk.corpus import stopwords\n",
    "stop = stopwords.words('english')"
   ]
  },
  {
   "cell_type": "markdown",
   "metadata": {},
   "source": [
    "A. Noise Cancellation"
   ]
  },
  {
   "cell_type": "code",
   "execution_count": 23,
   "metadata": {},
   "outputs": [
    {
     "name": "stderr",
     "output_type": "stream",
     "text": [
      "C:\\Users\\sugat\\Anaconda3\\lib\\site-packages\\ipykernel_launcher.py:1: SettingWithCopyWarning: \n",
      "A value is trying to be set on a copy of a slice from a DataFrame.\n",
      "Try using .loc[row_indexer,col_indexer] = value instead\n",
      "\n",
      "See the caveats in the documentation: http://pandas.pydata.org/pandas-docs/stable/indexing.html#indexing-view-versus-copy\n",
      "  \"\"\"Entry point for launching an IPython kernel.\n"
     ]
    }
   ],
   "source": [
    "df_abstract['data'] = df_abstract['data'].apply(lambda x: ' '.join([word for word in x.split() if word not in (stop)]))"
   ]
  },
  {
   "cell_type": "markdown",
   "metadata": {},
   "source": [
    "B. Normalization Using Lemmatisation"
   ]
  },
  {
   "cell_type": "code",
   "execution_count": 25,
   "metadata": {},
   "outputs": [
    {
     "name": "stderr",
     "output_type": "stream",
     "text": [
      "C:\\Users\\sugat\\Anaconda3\\lib\\site-packages\\ipykernel_launcher.py:4: SettingWithCopyWarning: \n",
      "A value is trying to be set on a copy of a slice from a DataFrame.\n",
      "Try using .loc[row_indexer,col_indexer] = value instead\n",
      "\n",
      "See the caveats in the documentation: http://pandas.pydata.org/pandas-docs/stable/indexing.html#indexing-view-versus-copy\n",
      "  after removing the cwd from sys.path.\n"
     ]
    }
   ],
   "source": [
    "from nltk.stem import WordNetLemmatizer\n",
    "wordnet_lemmatizer = WordNetLemmatizer()\n",
    "\n",
    "df_abstract['data'] = df_abstract['data'].apply(lambda x: ' '.join([wordnet_lemmatizer.lemmatize(word) for word in x.split()]))"
   ]
  },
  {
   "cell_type": "markdown",
   "metadata": {},
   "source": [
    "The improvement in dataset can be checked by taking new word_count for newly updated columns"
   ]
  },
  {
   "cell_type": "code",
   "execution_count": 26,
   "metadata": {},
   "outputs": [
    {
     "name": "stderr",
     "output_type": "stream",
     "text": [
      "C:\\Users\\sugat\\Anaconda3\\lib\\site-packages\\ipykernel_launcher.py:1: SettingWithCopyWarning: \n",
      "A value is trying to be set on a copy of a slice from a DataFrame.\n",
      "Try using .loc[row_indexer,col_indexer] = value instead\n",
      "\n",
      "See the caveats in the documentation: http://pandas.pydata.org/pandas-docs/stable/indexing.html#indexing-view-versus-copy\n",
      "  \"\"\"Entry point for launching an IPython kernel.\n"
     ]
    },
    {
     "data": {
      "text/html": [
       "<div>\n",
       "<style scoped>\n",
       "    .dataframe tbody tr th:only-of-type {\n",
       "        vertical-align: middle;\n",
       "    }\n",
       "\n",
       "    .dataframe tbody tr th {\n",
       "        vertical-align: top;\n",
       "    }\n",
       "\n",
       "    .dataframe thead th {\n",
       "        text-align: right;\n",
       "    }\n",
       "</style>\n",
       "<table border=\"1\" class=\"dataframe\">\n",
       "  <thead>\n",
       "    <tr style=\"text-align: right;\">\n",
       "      <th></th>\n",
       "      <th>data</th>\n",
       "      <th>word_count</th>\n",
       "    </tr>\n",
       "  </thead>\n",
       "  <tbody>\n",
       "    <tr>\n",
       "      <th>941</th>\n",
       "      <td>Algorithms Non-negative Matrix Factorization.N...</td>\n",
       "      <td>71</td>\n",
       "    </tr>\n",
       "    <tr>\n",
       "      <th>1067</th>\n",
       "      <td>Characterizing Neural Gain Control using Spike...</td>\n",
       "      <td>60</td>\n",
       "    </tr>\n",
       "    <tr>\n",
       "      <th>2384</th>\n",
       "      <td>Competition Adds Complexity.It known determini...</td>\n",
       "      <td>43</td>\n",
       "    </tr>\n",
       "    <tr>\n",
       "      <th>2385</th>\n",
       "      <td>Efficient Principled Learning Thin Junction Tr...</td>\n",
       "      <td>96</td>\n",
       "    </tr>\n",
       "    <tr>\n",
       "      <th>2388</th>\n",
       "      <td>Regularized Boost Semi-Supervised Learning.Sem...</td>\n",
       "      <td>84</td>\n",
       "    </tr>\n",
       "  </tbody>\n",
       "</table>\n",
       "</div>"
      ],
      "text/plain": [
       "                                                   data  word_count\n",
       "941   Algorithms Non-negative Matrix Factorization.N...          71\n",
       "1067  Characterizing Neural Gain Control using Spike...          60\n",
       "2384  Competition Adds Complexity.It known determini...          43\n",
       "2385  Efficient Principled Learning Thin Junction Tr...          96\n",
       "2388  Regularized Boost Semi-Supervised Learning.Sem...          84"
      ]
     },
     "execution_count": 26,
     "metadata": {},
     "output_type": "execute_result"
    }
   ],
   "source": [
    "df_abstract['word_count'] = df_abstract['data'].apply(lambda x: len(str(x).split(\" \")))\n",
    "df_abstract[['data','word_count']].head()"
   ]
  },
  {
   "cell_type": "markdown",
   "metadata": {},
   "source": [
    "Final Step of data exploration will involve data Visualization, which can be seen in word cloud created below"
   ]
  },
  {
   "cell_type": "code",
   "execution_count": 30,
   "metadata": {},
   "outputs": [
    {
     "data": {
      "text/plain": [
       "'Algorithms Non-negative Matrix Factorization.Non-negative matrix factorization (NMF) previously shown useful decomposition multivariate data. Two different multi- plicative algorithm NMF analyzed. They differ slightly multiplicative factor used update rules. One algorithm shown minimize conventional least square error minimizes generalized Kullback-Leibler divergence. The monotonic convergence algorithm proven using auxiliary func- tion analogous used proving convergence Expectation- Maximization algorithm. The algorithm also interpreted diag- onally rescaled gradient descent, rescaling factor optimally chosen ensure convergence.'"
      ]
     },
     "execution_count": 30,
     "metadata": {},
     "output_type": "execute_result"
    }
   ],
   "source": [
    "df_abstract.loc[941,'data']"
   ]
  },
  {
   "cell_type": "code",
   "execution_count": 34,
   "metadata": {},
   "outputs": [
    {
     "name": "stdout",
     "output_type": "stream",
     "text": [
      "<wordcloud.wordcloud.WordCloud object at 0x000002049009AC50>\n"
     ]
    },
    {
     "data": {
      "image/png": "[encoded data removed]",
      "text/plain": [
       "<matplotlib.figure.Figure at 0x2048d8aa5c0>"
      ]
     },
     "metadata": {},
     "output_type": "display_data"
    }
   ],
   "source": [
    "#Word cloud\n",
    "from os import path\n",
    "from PIL import Image\n",
    "from wordcloud import WordCloud, STOPWORDS, ImageColorGenerator\n",
    "import matplotlib.pyplot as plt\n",
    "% matplotlib inline\n",
    "wordcloud = WordCloud(\n",
    "                          background_color='white',\n",
    "                          stopwords=stop,\n",
    "                          max_words=100,\n",
    "                          max_font_size=50, \n",
    "                          random_state=42\n",
    "                         ).generate(str(df_abstract['data']))\n",
    "print(wordcloud)\n",
    "fig = plt.figure(1)\n",
    "plt.imshow(wordcloud)\n",
    "plt.axis('off')\n",
    "plt.show()\n",
    "fig.savefig(\"word1.png\", dpi=1000)"
   ]
  },
  {
   "cell_type": "markdown",
   "metadata": {},
   "source": [
    "Text data requires special preparation before you can start using it for predictive modeling.\n",
    "\n",
    "Hence the text available here, needs to be converted into a format that can be used my ML algorithms and this can be done in 2 steps:\n",
    "        \n",
    "        1] Tokenization\n",
    "        \n",
    "        2] Vectorization\n",
    "        \n",
    "Tokenisation is the process of converting the continuous text into a list of words.\n",
    "\n",
    "The list of words is then converted to a matrix of integers by the process of vectorisation. Vectorisation is also called feature extraction.\n",
    "\n",
    "For this we will be using BAG OF WORDS model, which ignores the sequence of words but considers the frequency of words.\n",
    "\n",
    "The text must be parsed to remove words, called tokenization. Then the words need to be encoded as integers or floating point values for use as input to a machine learning algorithm, called feature extraction (or vectorization).\n",
    "\n",
    "The scikit-learn library offers easy-to-use tools to perform both tokenization and feature extraction of your text data."
   ]
  },
  {
   "cell_type": "code",
   "execution_count": 36,
   "metadata": {},
   "outputs": [],
   "source": [
    "from sklearn.feature_extraction.text import CountVectorizer\n",
    "import re\n",
    "cv=CountVectorizer(max_df=0.8,stop_words=stop, max_features=10000, ngram_range=(1,3))\n",
    "X=cv.fit_transform(df_abstract['data'])"
   ]
  },
  {
   "cell_type": "markdown",
   "metadata": {},
   "source": [
    "cv=CountVectorizer(max_df=0.8,stop_words=stop_words, max_features=10000, ngram_range=(1,3))\n",
    "\n",
    "max_df — When building the vocabulary ignore terms that have a document frequency strictly higher than the given threshold \n",
    "\n",
    "(corpus-specific stop words). This is to ensure that we only have words relevant to the context and not commonly used words.\n",
    "\n",
    "max_features — determines the number of columns in the matrix.\n",
    "\n",
    "n-gram range — we would want to look at a list of single words, two words (bi-grams) and three words (tri-gram) combinations."
   ]
  },
  {
   "cell_type": "markdown",
   "metadata": {},
   "source": [
    "##### Let us Visulaize Top WORDS"
   ]
  },
  {
   "cell_type": "code",
   "execution_count": 54,
   "metadata": {},
   "outputs": [
    {
     "name": "stdout",
     "output_type": "stream",
     "text": [
      "CountVectorizer(analyzer='word', binary=False, decode_error='strict',\n",
      "        dtype=<class 'numpy.int64'>, encoding='utf-8', input='content',\n",
      "        lowercase=True, max_df=1.0, max_features=None, min_df=1,\n",
      "        ngram_range=(1, 1), preprocessor=None, stop_words=None,\n",
      "        strip_accents=None, token_pattern='(?u)\\\\b\\\\w\\\\w+\\\\b',\n",
      "        tokenizer=None, vocabulary=None)\n",
      "  (0, 685)\t5\n",
      "  (0, 689)\t1\n",
      "  (0, 742)\t1\n",
      "  (0, 797)\t1\n",
      "  (0, 815)\t1\n",
      "  (0, 1262)\t1\n",
      "  (0, 2226)\t1\n",
      "  (0, 2901)\t1\n",
      "  (0, 2906)\t3\n",
      "  (0, 3266)\t1\n",
      "  (0, 3371)\t1\n",
      "  (0, 3553)\t1\n",
      "  (0, 3653)\t1\n",
      "  (0, 3691)\t1\n",
      "  (0, 3694)\t1\n",
      "  (0, 3912)\t1\n",
      "  (0, 4447)\t1\n",
      "  (0, 4548)\t1\n",
      "  (0, 4722)\t1\n",
      "  (0, 4878)\t2\n",
      "  (0, 4886)\t2\n",
      "  (0, 5321)\t1\n",
      "  (0, 5445)\t1\n",
      "  (0, 5619)\t1\n",
      "  (0, 6729)\t1\n",
      "  :\t:\n",
      "  (3923, 10163)\t1\n",
      "  (3923, 10191)\t1\n",
      "  (3923, 10639)\t1\n",
      "  (3923, 10661)\t1\n",
      "  (3923, 10741)\t1\n",
      "  (3923, 11340)\t1\n",
      "  (3923, 11446)\t1\n",
      "  (3923, 11688)\t1\n",
      "  (3923, 11792)\t1\n",
      "  (3923, 11883)\t1\n",
      "  (3923, 12309)\t1\n",
      "  (3923, 12326)\t2\n",
      "  (3923, 12338)\t1\n",
      "  (3923, 12432)\t2\n",
      "  (3923, 12564)\t2\n",
      "  (3923, 12856)\t3\n",
      "  (3923, 12997)\t1\n",
      "  (3923, 13380)\t2\n",
      "  (3923, 13547)\t1\n",
      "  (3923, 13560)\t1\n",
      "  (3923, 13902)\t1\n",
      "  (3923, 13903)\t1\n",
      "  (3923, 14069)\t2\n",
      "  (3923, 14238)\t2\n",
      "  (3923, 14318)\t1\n"
     ]
    },
    {
     "data": {
      "text/plain": [
       "[Text(0,0,'we'),\n",
       " Text(0,0,'model'),\n",
       " Text(0,0,'learning'),\n",
       " Text(0,0,'algorithm'),\n",
       " Text(0,0,'data'),\n",
       " Text(0,0,'the'),\n",
       " Text(0,0,'method'),\n",
       " Text(0,0,'problem'),\n",
       " Text(0,0,'in'),\n",
       " Text(0,0,'show'),\n",
       " Text(0,0,'based'),\n",
       " Text(0,0,'approach'),\n",
       " Text(0,0,'function'),\n",
       " Text(0,0,'using'),\n",
       " Text(0,0,'network'),\n",
       " Text(0,0,'result'),\n",
       " Text(0,0,'time'),\n",
       " Text(0,0,'paper'),\n",
       " Text(0,0,'propose'),\n",
       " Text(0,0,'our')]"
      ]
     },
     "execution_count": 54,
     "metadata": {},
     "output_type": "execute_result"
    },
    {
     "data": {
      "image/png": "[encoded data removed]",
      "text/plain": [
       "<matplotlib.figure.Figure at 0x2049d9acba8>"
      ]
     },
     "metadata": {},
     "output_type": "display_data"
    }
   ],
   "source": [
    "#Most frequently occuring words\n",
    "def get_top_n_words(corpus, n=None):\n",
    "    vec = CountVectorizer().fit(corpus)\n",
    "    #print(vec)\n",
    "    bag_of_words = vec.transform(corpus)\n",
    "    #print(bag_of_words)\n",
    "    sum_words = bag_of_words.sum(axis=0) \n",
    "    words_freq = [(word, sum_words[0, idx]) for word, idx in      \n",
    "                   vec.vocabulary_.items()]\n",
    "    words_freq =sorted(words_freq, key = lambda x: x[1], \n",
    "                       reverse=True)\n",
    "    return words_freq[:n]\n",
    "#Convert most freq words to dataframe for plotting bar plot\n",
    "top_words = get_top_n_words(df_abstract['data'], n=20)\n",
    "top_df = pandas.DataFrame(top_words)\n",
    "top_df.columns=[\"Word\", \"Freq\"]\n",
    "#Barplot of most freq words\n",
    "import seaborn as sns\n",
    "sns.set(rc={'figure.figsize':(13,8)})\n",
    "g = sns.barplot(x=\"Word\", y=\"Freq\", data=top_df)\n",
    "g.set_xticklabels(g.get_xticklabels(), rotation=30)\n"
   ]
  },
  {
   "cell_type": "code",
   "execution_count": 40,
   "metadata": {},
   "outputs": [
    {
     "name": "stdout",
     "output_type": "stream",
     "text": [
      "                   Bi-gram  Freq\n",
      "0                 in paper   967\n",
      "1                  we show   734\n",
      "2               we propose   607\n",
      "3                 state of   582\n",
      "4                   of the   574\n",
      "5                  the art   564\n",
      "6               we present   464\n",
      "7           neural network   456\n",
      "8         machine learning   428\n",
      "9                  we also   396\n",
      "10              real world   380\n",
      "11        high dimensional   375\n",
      "12          we demonstrate   341\n",
      "13              this paper   308\n",
      "14             we consider   304\n",
      "15             large scale   302\n",
      "16      learning algorithm   298\n",
      "17  reinforcement learning   276\n",
      "18           in particular   250\n",
      "19                low rank   238\n"
     ]
    },
    {
     "data": {
      "text/plain": [
       "[Text(0,0,'in paper'),\n",
       " Text(0,0,'we show'),\n",
       " Text(0,0,'we propose'),\n",
       " Text(0,0,'state of'),\n",
       " Text(0,0,'of the'),\n",
       " Text(0,0,'the art'),\n",
       " Text(0,0,'we present'),\n",
       " Text(0,0,'neural network'),\n",
       " Text(0,0,'machine learning'),\n",
       " Text(0,0,'we also'),\n",
       " Text(0,0,'real world'),\n",
       " Text(0,0,'high dimensional'),\n",
       " Text(0,0,'we demonstrate'),\n",
       " Text(0,0,'this paper'),\n",
       " Text(0,0,'we consider'),\n",
       " Text(0,0,'large scale'),\n",
       " Text(0,0,'learning algorithm'),\n",
       " Text(0,0,'reinforcement learning'),\n",
       " Text(0,0,'in particular'),\n",
       " Text(0,0,'low rank')]"
      ]
     },
     "execution_count": 40,
     "metadata": {},
     "output_type": "execute_result"
    },
    {
     "data": {
      "image/png": "[encoded data removed]",
      "text/plain": [
       "<matplotlib.figure.Figure at 0x2049b854f28>"
      ]
     },
     "metadata": {},
     "output_type": "display_data"
    }
   ],
   "source": [
    "#Most frequently occuring Bi-grams\n",
    "def get_top_n2_words(corpus, n=None):\n",
    "    vec1 = CountVectorizer(ngram_range=(2,2),  \n",
    "            max_features=2000).fit(corpus)\n",
    "    bag_of_words = vec1.transform(corpus)\n",
    "    sum_words = bag_of_words.sum(axis=0) \n",
    "    words_freq = [(word, sum_words[0, idx]) for word, idx in     \n",
    "                  vec1.vocabulary_.items()]\n",
    "    words_freq =sorted(words_freq, key = lambda x: x[1], \n",
    "                reverse=True)\n",
    "    return words_freq[:n]\n",
    "top2_words = get_top_n2_words(df_abstract['data'], n=20)\n",
    "top2_df = pandas.DataFrame(top2_words)\n",
    "top2_df.columns=[\"Bi-gram\", \"Freq\"]\n",
    "print(top2_df)\n",
    "#Barplot of most freq Bi-grams\n",
    "import seaborn as sns\n",
    "sns.set(rc={'figure.figsize':(13,8)})\n",
    "h=sns.barplot(x=\"Bi-gram\", y=\"Freq\", data=top2_df)\n",
    "h.set_xticklabels(h.get_xticklabels(), rotation=45)"
   ]
  },
  {
   "cell_type": "code",
   "execution_count": 41,
   "metadata": {},
   "outputs": [
    {
     "name": "stdout",
     "output_type": "stream",
     "text": [
      "                        Tri-gram  Freq\n",
      "0                   state of the   570\n",
      "1                     of the art   563\n",
      "2               in paper propose   231\n",
      "3            we consider problem   111\n",
      "4    stochastic gradient descent    95\n",
      "5               in paper present    95\n",
      "6   convolutional neural network    82\n",
      "7       semi supervised learning    77\n",
      "8            real world datasets    76\n",
      "9                     end to end    74\n",
      "10                we propose new    73\n",
      "11              we propose novel    73\n",
      "12               low rank matrix    71\n",
      "13           the art performance    69\n",
      "14               real world data    68\n",
      "15                  we also show    66\n",
      "16            in paper introduce    65\n",
      "17            multi armed bandit    63\n",
      "18           deep neural network    63\n",
      "19          synthetic real world    62\n"
     ]
    },
    {
     "data": {
      "text/plain": [
       "[Text(0,0,'state of the'),\n",
       " Text(0,0,'of the art'),\n",
       " Text(0,0,'in paper propose'),\n",
       " Text(0,0,'we consider problem'),\n",
       " Text(0,0,'stochastic gradient descent'),\n",
       " Text(0,0,'in paper present'),\n",
       " Text(0,0,'convolutional neural network'),\n",
       " Text(0,0,'semi supervised learning'),\n",
       " Text(0,0,'real world datasets'),\n",
       " Text(0,0,'end to end'),\n",
       " Text(0,0,'we propose new'),\n",
       " Text(0,0,'we propose novel'),\n",
       " Text(0,0,'low rank matrix'),\n",
       " Text(0,0,'the art performance'),\n",
       " Text(0,0,'real world data'),\n",
       " Text(0,0,'we also show'),\n",
       " Text(0,0,'in paper introduce'),\n",
       " Text(0,0,'multi armed bandit'),\n",
       " Text(0,0,'deep neural network'),\n",
       " Text(0,0,'synthetic real world')]"
      ]
     },
     "execution_count": 41,
     "metadata": {},
     "output_type": "execute_result"
    },
    {
     "data": {
      "image/png": "[encoded data removed]",
      "text/plain": [
       "<matplotlib.figure.Figure at 0x2049e787828>"
      ]
     },
     "metadata": {},
     "output_type": "display_data"
    }
   ],
   "source": [
    "#Most frequently occuring Tri-grams\n",
    "def get_top_n3_words(corpus, n=None):\n",
    "    vec1 = CountVectorizer(ngram_range=(3,3), \n",
    "           max_features=2000).fit(corpus)\n",
    "    bag_of_words = vec1.transform(corpus)\n",
    "    sum_words = bag_of_words.sum(axis=0) \n",
    "    words_freq = [(word, sum_words[0, idx]) for word, idx in     \n",
    "                  vec1.vocabulary_.items()]\n",
    "    words_freq =sorted(words_freq, key = lambda x: x[1], \n",
    "                reverse=True)\n",
    "    return words_freq[:n]\n",
    "top3_words = get_top_n3_words(df_abstract['data'], n=20)\n",
    "top3_df = pandas.DataFrame(top3_words)\n",
    "top3_df.columns=[\"Tri-gram\", \"Freq\"]\n",
    "print(top3_df)\n",
    "#Barplot of most freq Tri-grams\n",
    "import seaborn as sns\n",
    "sns.set(rc={'figure.figsize':(13,8)})\n",
    "j=sns.barplot(x=\"Tri-gram\", y=\"Freq\", data=top3_df)\n",
    "j.set_xticklabels(j.get_xticklabels(), rotation=45)"
   ]
  },
  {
   "cell_type": "markdown",
   "metadata": {},
   "source": [
    "As we observe words obtained from countVectoriser,large counts of certain common words may dilute the impact of more context specific words in the corpus. This is overcome by the TF-IDF vectoriser which penalizes words that appear several times across the document. TF-IDF are word frequency scores that highlight words that are more important to the context rather than those that appear frequently across documents."
   ]
  },
  {
   "cell_type": "code",
   "execution_count": 42,
   "metadata": {},
   "outputs": [],
   "source": [
    "from sklearn.feature_extraction.text import TfidfTransformer\n",
    " \n",
    "tfidf_transformer=TfidfTransformer(smooth_idf=True,use_idf=True)\n",
    "tfidf_transformer.fit(X)\n",
    "# get feature names\n",
    "feature_names=cv.get_feature_names()"
   ]
  },
  {
   "cell_type": "code",
   "execution_count": 45,
   "metadata": {},
   "outputs": [
    {
     "data": {
      "text/plain": [
       "10000"
      ]
     },
     "execution_count": 45,
     "metadata": {},
     "output_type": "execute_result"
    }
   ],
   "source": [
    "len(feature_names)"
   ]
  },
  {
   "cell_type": "code",
   "execution_count": 55,
   "metadata": {},
   "outputs": [
    {
     "data": {
      "text/plain": [
       "'Evaluating Search Engines Modeling Relationship Between Relevance Clicks.We propose model leverage million click received web search engines, predict document relevance. This allows comparison ranking function click available complete relevance judgment not. After initial training phase using set relevance judgment paired click data, show model predict relevance score document judged. These prediction used evaluate performance search engine, using novel formalization confidence standard evaluation metric discounted cumulative gain (DCG), comparison made across time datasets. This contrast previous method provide pair-wise relevance judgement result shown query. When relevance judgment available, identify better two ranked list 82% time, two relevance judgment query, identify better ranking 94% time. While experiment sponsored search results, financial backbone web search, method general enough applicable algorithmic web search result well. Furthermore, give algorithm guide selection additional document judge improve confidence.'"
      ]
     },
     "execution_count": 55,
     "metadata": {},
     "output_type": "execute_result"
    }
   ],
   "source": [
    "# Let us select an document for which keywords needs to be extracted\n",
    "doc=df_abstract.iloc[14]\n",
    "doc = doc['data']\n",
    "doc"
   ]
  },
  {
   "cell_type": "code",
   "execution_count": 52,
   "metadata": {},
   "outputs": [],
   "source": [
    "#generate tf-idf for the given document\n",
    "tf_idf_vector=tfidf_transformer.transform(cv.transform([doc]))\n"
   ]
  },
  {
   "cell_type": "markdown",
   "metadata": {},
   "source": [
    "Based on the TF-IDF scores, we can extract the words with the highest scores to get the keywords for a document.\n",
    "\n"
   ]
  },
  {
   "cell_type": "code",
   "execution_count": 53,
   "metadata": {},
   "outputs": [
    {
     "name": "stdout",
     "output_type": "stream",
     "text": [
      "\n",
      "Abstract:\n",
      "Evaluating Search Engines Modeling Relationship Between Relevance Clicks.We propose model leverage million click received web search engines, predict document relevance. This allows comparison ranking function click available complete relevance judgment not. After initial training phase using set relevance judgment paired click data, show model predict relevance score document judged. These prediction used evaluate performance search engine, using novel formalization confidence standard evaluation metric discounted cumulative gain (DCG), comparison made across time datasets. This contrast previous method provide pair-wise relevance judgement result shown query. When relevance judgment available, identify better two ranked list 82% time, two relevance judgment query, identify better ranking 94% time. While experiment sponsored search results, financial backbone web search, method general enough applicable algorithmic web search result well. Furthermore, give algorithm guide selection additional document judge improve confidence.\n",
      "\n",
      "Keywords:\n",
      "relevance 0.523\n",
      "judgment 0.329\n",
      "search 0.273\n",
      "click 0.251\n",
      "web search 0.236\n"
     ]
    }
   ],
   "source": [
    "#Function for sorting tf_idf in descending order\n",
    "from scipy.sparse import coo_matrix\n",
    "\n",
    "def sort_coo(coo_matrix):\n",
    "    tuples = zip(coo_matrix.col, coo_matrix.data)\n",
    "    return sorted(tuples, key=lambda x: (x[1], x[0]), reverse=True)\n",
    " \n",
    "def extract_topn_from_vector(feature_names, sorted_items, topn=10):\n",
    "    \"\"\"get the feature names and tf-idf score of top n items\"\"\"\n",
    "    \n",
    "    #use only topn items from vector\n",
    "    sorted_items = sorted_items[:topn]\n",
    " \n",
    "    score_vals = []\n",
    "    feature_vals = []\n",
    "    \n",
    "    # word index and corresponding tf-idf score\n",
    "    for idx, score in sorted_items:\n",
    "        \n",
    "        #keep track of feature name and its corresponding score\n",
    "        score_vals.append(round(score, 3))\n",
    "        feature_vals.append(feature_names[idx])\n",
    " \n",
    "    #create a tuples of feature,score\n",
    "    #results = zip(feature_vals,score_vals)\n",
    "    results= {}\n",
    "    for idx in range(len(feature_vals)):\n",
    "        results[feature_vals[idx]]=score_vals[idx]\n",
    "    \n",
    "    return results\n",
    "#sort the tf-idf vectors by descending order of scores\n",
    "sorted_items=sort_coo(tf_idf_vector.tocoo())\n",
    "#extract only the top n; n here is 10\n",
    "keywords=extract_topn_from_vector(feature_names,sorted_items,5)\n",
    " \n",
    "# now print the results\n",
    "print(\"\\nAbstract:\")\n",
    "print(doc)\n",
    "print(\"\\nKeywords:\")\n",
    "for k in keywords:\n",
    "    print(k,keywords[k])"
   ]
  }
 ],
 "metadata": {
  "kernelspec": {
   "display_name": "Python 3",
   "language": "python",
   "name": "python3"
  },
  "language_info": {
   "codemirror_mode": {
    "name": "ipython",
    "version": 3
   },
   "file_extension": ".py",
   "mimetype": "text/x-python",
   "name": "python",
   "nbconvert_exporter": "python",
   "pygments_lexer": "ipython3",
   "version": "3.6.4"
  }
 },
 "nbformat": 4,
 "nbformat_minor": 2
}
